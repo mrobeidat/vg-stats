{
 "cells": [
  {
   "cell_type": "markdown",
   "metadata": {},
   "source": [
    "# cycle data set \n",
    "\n",
    "## Data set: bike stats\n",
    "\n",
    "## Name : Yousef Obeidat\n",
    "\n",
    "## Date: 15 NOV 2021"
   ]
  },
  {
   "cell_type": "code",
   "execution_count": 5,
   "metadata": {},
   "outputs": [
    {
     "ename": "ModuleNotFoundError",
     "evalue": "No module named 'pandas'",
     "output_type": "error",
     "traceback": [
      "\u001b[0;31m---------------------------------------------------------------------------\u001b[0m",
      "\u001b[0;31mModuleNotFoundError\u001b[0m                       Traceback (most recent call last)",
      "\u001b[0;32m/tmp/ipykernel_227012/217833862.py\u001b[0m in \u001b[0;36m<module>\u001b[0;34m\u001b[0m\n\u001b[0;32m----> 1\u001b[0;31m \u001b[0;32mimport\u001b[0m \u001b[0mpandas\u001b[0m \u001b[0;32mas\u001b[0m \u001b[0mpd\u001b[0m\u001b[0;34m\u001b[0m\u001b[0;34m\u001b[0m\u001b[0m\n\u001b[0m",
      "\u001b[0;31mModuleNotFoundError\u001b[0m: No module named 'pandas'"
     ]
    }
   ],
   "source": [
    "import pandas as pd "
   ]
  },
  {
   "cell_type": "code",
   "execution_count": null,
   "metadata": {},
   "outputs": [],
   "source": []
  },
  {
   "cell_type": "code",
   "execution_count": null,
   "metadata": {},
   "outputs": [
    {
     "name": "stderr",
     "output_type": "stream",
     "text": [
      "/home/yousef/.cache/pypoetry/virtualenvs/vg-stats-W_7ahZh2-py3.9/lib/python3.9/site-packages/IPython/core/interactiveshell.py:3444: FutureWarning: The error_bad_lines argument has been deprecated and will be removed in a future version.\n",
      "\n",
      "\n",
      "  exec(code_obj, self.user_global_ns, self.user_ns)\n",
      "b'Skipping line 50794: expected 12 fields, saw 20\\n'\n"
     ]
    }
   ],
   "source": [
    "station = pd.read_csv('station.csv')\n",
    "trip = pd.read_csv('trip.csv',error_bad_lines=False)\n",
    "weather = pd.read_csv('weather.csv')"
   ]
  },
  {
   "cell_type": "code",
   "execution_count": null,
   "metadata": {},
   "outputs": [
    {
     "data": {
      "text/plain": [
       "Index(['station_id', 'name', 'lat', 'long', 'install_date',\n",
       "       'install_dockcount', 'modification_date', 'current_dockcount',\n",
       "       'decommission_date'],\n",
       "      dtype='object')"
      ]
     },
     "execution_count": 3,
     "metadata": {},
     "output_type": "execute_result"
    }
   ],
   "source": [
    "station.keys()"
   ]
  },
  {
   "cell_type": "markdown",
   "metadata": {},
   "source": [
    "trip.keys()"
   ]
  },
  {
   "cell_type": "code",
   "execution_count": null,
   "metadata": {},
   "outputs": [
    {
     "data": {
      "text/plain": [
       "Index(['Date', 'Max_Temperature_F', 'Mean_Temperature_F', 'Min_TemperatureF',\n",
       "       'Max_Dew_Point_F', 'MeanDew_Point_F', 'Min_Dewpoint_F', 'Max_Humidity',\n",
       "       'Mean_Humidity', 'Min_Humidity', 'Max_Sea_Level_Pressure_In',\n",
       "       'Mean_Sea_Level_Pressure_In', 'Min_Sea_Level_Pressure_In',\n",
       "       'Max_Visibility_Miles', 'Mean_Visibility_Miles', 'Min_Visibility_Miles',\n",
       "       'Max_Wind_Speed_MPH', 'Mean_Wind_Speed_MPH', 'Max_Gust_Speed_MPH',\n",
       "       'Precipitation_In', 'Events'],\n",
       "      dtype='object')"
      ]
     },
     "execution_count": 5,
     "metadata": {},
     "output_type": "execute_result"
    }
   ],
   "source": [
    "weather.keys()"
   ]
  },
  {
   "cell_type": "markdown",
   "metadata": {},
   "source": [
    "# What is the average trip duration for a borrowed bicycle ?"
   ]
  },
  {
   "cell_type": "code",
   "execution_count": null,
   "metadata": {},
   "outputs": [
    {
     "data": {
      "text/plain": [
       "1178.2956753399776"
      ]
     },
     "execution_count": 6,
     "metadata": {},
     "output_type": "execute_result"
    }
   ],
   "source": [
    "trip_average = trip['tripduration']\n",
    "trip_average.mean()"
   ]
  },
  {
   "cell_type": "markdown",
   "metadata": {},
   "source": [
    "# What’s the most common age of a bicycle-sharer ?\n"
   ]
  },
  {
   "cell_type": "code",
   "execution_count": null,
   "metadata": {},
   "outputs": [
    {
     "data": {
      "text/plain": [
       "0    34.0\n",
       "dtype: float64"
      ]
     },
     "execution_count": 8,
     "metadata": {},
     "output_type": "execute_result"
    }
   ],
   "source": [
    "age_sharer = trip['birthyear'].mode()\n",
    "current_year = 2021 \n",
    "age_bicycle_sharer = round(current_year - age_sharer)\n",
    "age_bicycle_sharer"
   ]
  },
  {
   "cell_type": "markdown",
   "metadata": {},
   "source": [
    "# Given all the weather data here, find the average precipitation per month, and the median precipitation."
   ]
  },
  {
   "cell_type": "code",
   "execution_count": null,
   "metadata": {},
   "outputs": [
    {
     "name": "stdout",
     "output_type": "stream",
     "text": [
      "Mean / Month\n",
      "1/1/2015     0.00\n",
      "1/1/2016     0.00\n",
      "1/10/2015    0.18\n",
      "1/10/2016    0.00\n",
      "1/11/2015    0.06\n",
      "             ... \n",
      "9/5/2015     0.06\n",
      "9/6/2015     0.19\n",
      "9/7/2015     0.00\n",
      "9/8/2015     0.00\n",
      "9/9/2015     0.00\n",
      "Name: Precipitation_In, Length: 689, dtype: float64\n",
      "Median / Month\n",
      "1/1/2015     0.00\n",
      "1/1/2016     0.00\n",
      "1/10/2015    0.18\n",
      "1/10/2016    0.00\n",
      "1/11/2015    0.06\n",
      "             ... \n",
      "9/5/2015     0.06\n",
      "9/6/2015     0.19\n",
      "9/7/2015     0.00\n",
      "9/8/2015     0.00\n",
      "9/9/2015     0.00\n",
      "Name: Precipitation_In, Length: 689, dtype: float64\n"
     ]
    }
   ],
   "source": [
    "def month(date):\n",
    "    return int(date.split('/')[0])\n",
    "weather['Month'] = weather['Date']\n",
    "weather['Month'].apply(month)\n",
    "\n",
    "precipitation = weather.groupby('Month')['Precipitation_In']\n",
    "print('Mean /', precipitation.mean())\n",
    "print('Median /', precipitation.median())"
   ]
  },
  {
   "cell_type": "markdown",
   "metadata": {},
   "source": [
    "# What’s the average number of bikes at a given bike station ?\n"
   ]
  },
  {
   "cell_type": "code",
   "execution_count": null,
   "metadata": {},
   "outputs": [
    {
     "data": {
      "text/plain": [
       "16.517241379310345"
      ]
     },
     "execution_count": 10,
     "metadata": {},
     "output_type": "execute_result"
    }
   ],
   "source": [
    "average_bike_station = station.current_dockcount\n",
    "average_bike_station.mean()"
   ]
  },
  {
   "cell_type": "markdown",
   "metadata": {},
   "source": [
    "# When a bike station is modified, is it more likely that it’ll lose bikes or gain bikes ? How do you know ?"
   ]
  },
  {
   "cell_type": "code",
   "execution_count": null,
   "metadata": {},
   "outputs": [
    {
     "data": {
      "text/html": [
       "<div>\n",
       "<style scoped>\n",
       "    .dataframe tbody tr th:only-of-type {\n",
       "        vertical-align: middle;\n",
       "    }\n",
       "\n",
       "    .dataframe tbody tr th {\n",
       "        vertical-align: top;\n",
       "    }\n",
       "\n",
       "    .dataframe thead th {\n",
       "        text-align: right;\n",
       "    }\n",
       "</style>\n",
       "<table border=\"1\" class=\"dataframe\">\n",
       "  <thead>\n",
       "    <tr style=\"text-align: right;\">\n",
       "      <th></th>\n",
       "      <th>modification_date</th>\n",
       "      <th>install_dockcount</th>\n",
       "      <th>current_dockcount</th>\n",
       "    </tr>\n",
       "  </thead>\n",
       "  <tbody>\n",
       "    <tr>\n",
       "      <th>7</th>\n",
       "      <td>11/9/2015</td>\n",
       "      <td>20</td>\n",
       "      <td>18</td>\n",
       "    </tr>\n",
       "    <tr>\n",
       "      <th>10</th>\n",
       "      <td>8/9/2016</td>\n",
       "      <td>16</td>\n",
       "      <td>0</td>\n",
       "    </tr>\n",
       "    <tr>\n",
       "      <th>12</th>\n",
       "      <td>2/24/2015</td>\n",
       "      <td>18</td>\n",
       "      <td>20</td>\n",
       "    </tr>\n",
       "    <tr>\n",
       "      <th>17</th>\n",
       "      <td>2/24/2015</td>\n",
       "      <td>28</td>\n",
       "      <td>26</td>\n",
       "    </tr>\n",
       "    <tr>\n",
       "      <th>22</th>\n",
       "      <td>3/24/2015</td>\n",
       "      <td>30</td>\n",
       "      <td>24</td>\n",
       "    </tr>\n",
       "    <tr>\n",
       "      <th>23</th>\n",
       "      <td>3/27/2015</td>\n",
       "      <td>12</td>\n",
       "      <td>16</td>\n",
       "    </tr>\n",
       "    <tr>\n",
       "      <th>26</th>\n",
       "      <td>3/18/2016</td>\n",
       "      <td>16</td>\n",
       "      <td>0</td>\n",
       "    </tr>\n",
       "    <tr>\n",
       "      <th>31</th>\n",
       "      <td>2/24/2015</td>\n",
       "      <td>18</td>\n",
       "      <td>20</td>\n",
       "    </tr>\n",
       "    <tr>\n",
       "      <th>35</th>\n",
       "      <td>3/13/2015</td>\n",
       "      <td>12</td>\n",
       "      <td>20</td>\n",
       "    </tr>\n",
       "    <tr>\n",
       "      <th>37</th>\n",
       "      <td>2/23/2015</td>\n",
       "      <td>18</td>\n",
       "      <td>16</td>\n",
       "    </tr>\n",
       "    <tr>\n",
       "      <th>38</th>\n",
       "      <td>11/2/2015</td>\n",
       "      <td>20</td>\n",
       "      <td>0</td>\n",
       "    </tr>\n",
       "    <tr>\n",
       "      <th>39</th>\n",
       "      <td>3/4/2015</td>\n",
       "      <td>12</td>\n",
       "      <td>16</td>\n",
       "    </tr>\n",
       "    <tr>\n",
       "      <th>46</th>\n",
       "      <td>10/29/2015</td>\n",
       "      <td>16</td>\n",
       "      <td>0</td>\n",
       "    </tr>\n",
       "    <tr>\n",
       "      <th>47</th>\n",
       "      <td>2/20/2015</td>\n",
       "      <td>12</td>\n",
       "      <td>14</td>\n",
       "    </tr>\n",
       "    <tr>\n",
       "      <th>48</th>\n",
       "      <td>2/20/2015</td>\n",
       "      <td>18</td>\n",
       "      <td>16</td>\n",
       "    </tr>\n",
       "    <tr>\n",
       "      <th>49</th>\n",
       "      <td>2/20/2015</td>\n",
       "      <td>12</td>\n",
       "      <td>14</td>\n",
       "    </tr>\n",
       "    <tr>\n",
       "      <th>50</th>\n",
       "      <td>2/20/2015</td>\n",
       "      <td>20</td>\n",
       "      <td>14</td>\n",
       "    </tr>\n",
       "  </tbody>\n",
       "</table>\n",
       "</div>"
      ],
      "text/plain": [
       "   modification_date  install_dockcount  current_dockcount\n",
       "7          11/9/2015                 20                 18\n",
       "10          8/9/2016                 16                  0\n",
       "12         2/24/2015                 18                 20\n",
       "17         2/24/2015                 28                 26\n",
       "22         3/24/2015                 30                 24\n",
       "23         3/27/2015                 12                 16\n",
       "26         3/18/2016                 16                  0\n",
       "31         2/24/2015                 18                 20\n",
       "35         3/13/2015                 12                 20\n",
       "37         2/23/2015                 18                 16\n",
       "38         11/2/2015                 20                  0\n",
       "39          3/4/2015                 12                 16\n",
       "46        10/29/2015                 16                  0\n",
       "47         2/20/2015                 12                 14\n",
       "48         2/20/2015                 18                 16\n",
       "49         2/20/2015                 12                 14\n",
       "50         2/20/2015                 20                 14"
      ]
     },
     "execution_count": 11,
     "metadata": {},
     "output_type": "execute_result"
    }
   ],
   "source": [
    "modified_station = station[['modification_date','install_dockcount','current_dockcount']]\n",
    "modified_station.dropna() "
   ]
  },
  {
   "cell_type": "markdown",
   "metadata": {},
   "source": [
    "# What is the total number of current bikes in stations ?"
   ]
  },
  {
   "cell_type": "code",
   "execution_count": null,
   "metadata": {},
   "outputs": [
    {
     "data": {
      "text/plain": [
       "958"
      ]
     },
     "execution_count": 12,
     "metadata": {},
     "output_type": "execute_result"
    }
   ],
   "source": [
    "total_number =  station['current_dockcount']\n",
    "total_number.sum()"
   ]
  },
  {
   "cell_type": "markdown",
   "metadata": {},
   "source": [
    "# What is the avgarge of minimum tempreture ?"
   ]
  },
  {
   "cell_type": "code",
   "execution_count": null,
   "metadata": {},
   "outputs": [
    {
     "data": {
      "text/plain": [
       "50.0"
      ]
     },
     "execution_count": 13,
     "metadata": {},
     "output_type": "execute_result"
    }
   ],
   "source": [
    "minimum_tempreture = weather['Min_TemperatureF']\n",
    "minimum_tempreture.median()"
   ]
  },
  {
   "cell_type": "markdown",
   "metadata": {},
   "source": [
    "# What is the avgarge of maximum tempreture ?"
   ]
  },
  {
   "cell_type": "code",
   "execution_count": null,
   "metadata": {},
   "outputs": [
    {
     "data": {
      "text/plain": [
       "63.0"
      ]
     },
     "execution_count": 14,
     "metadata": {},
     "output_type": "execute_result"
    }
   ],
   "source": [
    "maximum_tempreture = weather['Max_Temperature_F']\n",
    "maximum_tempreture.median()"
   ]
  },
  {
   "cell_type": "markdown",
   "metadata": {},
   "source": [
    "# What is the station names ?"
   ]
  },
  {
   "cell_type": "code",
   "execution_count": null,
   "metadata": {},
   "outputs": [
    {
     "data": {
      "text/plain": [
       "0                                12th Ave & E Denny Way\n",
       "1                                12th Ave & E Mercer St\n",
       "2                               12th Ave & E Yesler Way\n",
       "3                             12th Ave & NE Campus Pkwy\n",
       "4                              15th Ave E & E Thomas St\n",
       "5                              15th Ave NE & NE 40th St\n",
       "6                                   1st Ave & Marion St\n",
       "7                                2nd Ave & Blanchard St\n",
       "8                                     2nd Ave & Pine St\n",
       "9                                   2nd Ave & Spring St\n",
       "10                                    2nd Ave & Vine St\n",
       "11                                   3rd Ave & Broad St\n",
       "12                               6th Ave & Blanchard St\n",
       "13                                6th Ave S & S King St\n",
       "14                                   7th Ave & Union St\n",
       "15                                9th Ave N & Mercer St\n",
       "16                             Bellevue Ave & E Pine St\n",
       "17                             Broadway and E Denny Way\n",
       "18    Burke Museum / E Stevens Way NE & Memorial Way NE\n",
       "19    Burke-Gilman Trail / NE Blakeley St & 24th Ave NE\n",
       "20               Cal Anderson Park / 11th Ave & Pine St\n",
       "21    Children's Hospital / Sandpoint Way NE & 40th ...\n",
       "22                       City Hall / 4th Ave & James St\n",
       "23                               Dexter Ave & Denny Way\n",
       "24                              Dexter Ave N & Aloha St\n",
       "25                         E Blaine St & Fairview Ave E\n",
       "26                       E Harrison St & Broadway Ave E\n",
       "27                                 E Pine St & 16th Ave\n",
       "28                        Eastlake Ave E & E Allison St\n",
       "29    Fred Hutchinson Cancer Research Center / Fairv...\n",
       "30            Frye Art Museum / Terry Ave & Columbia St\n",
       "31                              Harvard Ave & E Pine St\n",
       "32                  Key Arena / 1st Ave N & Harrison St\n",
       "33    King Street Station Plaza / 2nd Ave Extension ...\n",
       "34            Lake Union Park / Valley St & Boren Ave N\n",
       "35                                Mercer St & 9th Ave N\n",
       "36                       NE 42nd St & University Way NE\n",
       "37                             NE 47th St & 12th Ave NE\n",
       "38                      NE Pacific St/UW Medical Center\n",
       "39    Occidental Park / Occidental Ave S & S Washing...\n",
       "40                        PATH / 9th Ave & Westlake Ave\n",
       "41                      Pier 66 / Alaskan Way & Bell St\n",
       "42                      Pier 69 / Alaskan Way & Clay St\n",
       "43                                    Pine St & 9th Ave\n",
       "44                           REI / Yale Ave N & John St\n",
       "45                       Republican St & Westlake Ave N\n",
       "46    Seattle Aquarium / Alaskan Way S & Elliott Bay...\n",
       "47        Seattle University / E Columbia St & 12th Ave\n",
       "48                             Summit Ave & E Denny Way\n",
       "49                       Summit Ave E & E Republican St\n",
       "50                               Terry Ave & Stewart St\n",
       "51                                Thomas St & 5th Ave N\n",
       "52    UW Engineering Library / E Stevens Way NE & Je...\n",
       "53                    UW Intramural Activities Building\n",
       "54    UW Magnuson Health Sciences Center Rotunda / C...\n",
       "55                         UW McCarty Hall / Whitman Ct\n",
       "56                                   Union St & 4th Ave\n",
       "57                               Westlake Ave & 6th Ave\n",
       "dtype: object"
      ]
     },
     "execution_count": 15,
     "metadata": {},
     "output_type": "execute_result"
    }
   ],
   "source": [
    "station_name = station['name']\n",
    "station_name.mode()"
   ]
  },
  {
   "cell_type": "code",
   "execution_count": null,
   "metadata": {},
   "outputs": [
    {
     "name": "stdout",
     "output_type": "stream",
     "text": [
      "Success!!!\n"
     ]
    }
   ],
   "source": [
    "def test():\n",
    "\n",
    "    def assert_equal(actual,expected):\n",
    "        assert actual == expected, f\"Expected {expected} but got {actual}\"\n",
    "\n",
    "        assert_equal(trip_average, None)\n",
    "        assert_equal(age_bicycle_sharer, None)\n",
    "        assert_equal(precipitation.mean, None)\n",
    "        assert_equal(precipitation.median, None)\n",
    "        assert_equal(average_bike_station, None)\n",
    "        assert_equal(modified_station, None)\n",
    "        assert_equal(total_number, None)\n",
    "        assert_equal(minimum_tempreture, None)    \n",
    "\n",
    "    print(\"Success!!!\")\n",
    "\n",
    "test()"
   ]
  }
 ],
 "metadata": {
  "interpreter": {
   "hash": "71750bb999dc112a5762eff253e0962a1885a7e6e4049c17d7b7d6099054b4b5"
  },
  "kernelspec": {
   "display_name": "Python 3 (ipykernel)",
   "language": "python",
   "name": "python3"
  },
  "language_info": {
   "codemirror_mode": {
    "name": "ipython",
    "version": 3
   },
   "file_extension": ".py",
   "mimetype": "text/x-python",
   "name": "python",
   "nbconvert_exporter": "python",
   "pygments_lexer": "ipython3",
   "version": "3.9.5"
  }
 },
 "nbformat": 4,
 "nbformat_minor": 4
}
